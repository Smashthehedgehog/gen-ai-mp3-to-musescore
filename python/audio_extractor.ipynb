{
 "cells": [
  {
   "cell_type": "code",
   "execution_count": 1,
   "metadata": {},
   "outputs": [
    {
     "name": "stdout",
     "output_type": "stream",
     "text": [
      "Defaulting to user installation because normal site-packages is not writeable\n",
      "Requirement already satisfied: demucs in /home/mikea/.local/lib/python3.10/site-packages (4.0.1)\n",
      "Requirement already satisfied: torchaudio in /home/mikea/.local/lib/python3.10/site-packages (2.4.0)\n",
      "Requirement already satisfied: openunmix in /home/mikea/.local/lib/python3.10/site-packages (from demucs) (1.3.0)\n",
      "Requirement already satisfied: einops in /home/mikea/.local/lib/python3.10/site-packages (from demucs) (0.8.0)\n",
      "Requirement already satisfied: dora-search in /home/mikea/.local/lib/python3.10/site-packages (from demucs) (0.1.12)\n",
      "Requirement already satisfied: julius>=0.2.3 in /home/mikea/.local/lib/python3.10/site-packages (from demucs) (0.2.7)\n",
      "Requirement already satisfied: lameenc>=1.2 in /home/mikea/.local/lib/python3.10/site-packages (from demucs) (1.7.0)\n",
      "Requirement already satisfied: torch>=1.8.1 in /home/mikea/.local/lib/python3.10/site-packages (from demucs) (2.4.0)\n",
      "Requirement already satisfied: tqdm in /home/mikea/.local/lib/python3.10/site-packages (from demucs) (4.66.5)\n",
      "Requirement already satisfied: pyyaml in /usr/lib/python3/dist-packages (from demucs) (5.4.1)\n",
      "Requirement already satisfied: nvidia-curand-cu12==10.3.2.106 in /home/mikea/.local/lib/python3.10/site-packages (from torch>=1.8.1->demucs) (10.3.2.106)\n",
      "Requirement already satisfied: networkx in /home/mikea/.local/lib/python3.10/site-packages (from torch>=1.8.1->demucs) (3.3)\n",
      "Requirement already satisfied: fsspec in /home/mikea/.local/lib/python3.10/site-packages (from torch>=1.8.1->demucs) (2024.6.1)\n",
      "Requirement already satisfied: nvidia-cuda-cupti-cu12==12.1.105 in /home/mikea/.local/lib/python3.10/site-packages (from torch>=1.8.1->demucs) (12.1.105)\n",
      "Requirement already satisfied: filelock in /home/mikea/.local/lib/python3.10/site-packages (from torch>=1.8.1->demucs) (3.15.4)\n",
      "Requirement already satisfied: nvidia-cuda-nvrtc-cu12==12.1.105 in /home/mikea/.local/lib/python3.10/site-packages (from torch>=1.8.1->demucs) (12.1.105)\n",
      "Requirement already satisfied: typing-extensions>=4.8.0 in /home/mikea/.local/lib/python3.10/site-packages (from torch>=1.8.1->demucs) (4.12.2)\n",
      "Requirement already satisfied: nvidia-cuda-runtime-cu12==12.1.105 in /home/mikea/.local/lib/python3.10/site-packages (from torch>=1.8.1->demucs) (12.1.105)\n",
      "Requirement already satisfied: nvidia-cufft-cu12==11.0.2.54 in /home/mikea/.local/lib/python3.10/site-packages (from torch>=1.8.1->demucs) (11.0.2.54)\n",
      "Requirement already satisfied: sympy in /usr/lib/python3/dist-packages (from torch>=1.8.1->demucs) (1.9)\n",
      "Requirement already satisfied: nvidia-cublas-cu12==12.1.3.1 in /home/mikea/.local/lib/python3.10/site-packages (from torch>=1.8.1->demucs) (12.1.3.1)\n",
      "Requirement already satisfied: nvidia-cusparse-cu12==12.1.0.106 in /home/mikea/.local/lib/python3.10/site-packages (from torch>=1.8.1->demucs) (12.1.0.106)\n",
      "Requirement already satisfied: triton==3.0.0 in /home/mikea/.local/lib/python3.10/site-packages (from torch>=1.8.1->demucs) (3.0.0)\n",
      "Requirement already satisfied: nvidia-cudnn-cu12==9.1.0.70 in /home/mikea/.local/lib/python3.10/site-packages (from torch>=1.8.1->demucs) (9.1.0.70)\n",
      "Requirement already satisfied: nvidia-nccl-cu12==2.20.5 in /home/mikea/.local/lib/python3.10/site-packages (from torch>=1.8.1->demucs) (2.20.5)\n",
      "Requirement already satisfied: nvidia-cusolver-cu12==11.4.5.107 in /home/mikea/.local/lib/python3.10/site-packages (from torch>=1.8.1->demucs) (11.4.5.107)\n",
      "Requirement already satisfied: jinja2 in /home/mikea/.local/lib/python3.10/site-packages (from torch>=1.8.1->demucs) (3.1.4)\n",
      "Requirement already satisfied: nvidia-nvtx-cu12==12.1.105 in /home/mikea/.local/lib/python3.10/site-packages (from torch>=1.8.1->demucs) (12.1.105)\n",
      "Requirement already satisfied: nvidia-nvjitlink-cu12 in /home/mikea/.local/lib/python3.10/site-packages (from nvidia-cusolver-cu12==11.4.5.107->torch>=1.8.1->demucs) (12.6.20)\n",
      "Requirement already satisfied: treetable in /home/mikea/.local/lib/python3.10/site-packages (from dora-search->demucs) (0.2.5)\n",
      "Requirement already satisfied: omegaconf in /home/mikea/.local/lib/python3.10/site-packages (from dora-search->demucs) (2.3.0)\n",
      "Requirement already satisfied: submitit in /home/mikea/.local/lib/python3.10/site-packages (from dora-search->demucs) (1.5.1)\n",
      "Requirement already satisfied: retrying in /home/mikea/.local/lib/python3.10/site-packages (from dora-search->demucs) (1.3.4)\n",
      "Requirement already satisfied: numpy in /home/mikea/.local/lib/python3.10/site-packages (from openunmix->demucs) (2.0.1)\n",
      "Requirement already satisfied: MarkupSafe>=2.0 in /home/mikea/.local/lib/python3.10/site-packages (from jinja2->torch>=1.8.1->demucs) (2.1.5)\n",
      "Requirement already satisfied: antlr4-python3-runtime==4.9.* in /home/mikea/.local/lib/python3.10/site-packages (from omegaconf->dora-search->demucs) (4.9.3)\n",
      "Requirement already satisfied: six>=1.7.0 in /usr/lib/python3/dist-packages (from retrying->dora-search->demucs) (1.16.0)\n",
      "Requirement already satisfied: cloudpickle>=1.2.1 in /home/mikea/.local/lib/python3.10/site-packages (from submitit->dora-search->demucs) (3.0.0)\n",
      "Defaulting to user installation because normal site-packages is not writeable\n",
      "Requirement already satisfied: numpy in /home/mikea/.local/lib/python3.10/site-packages (2.0.1)\n",
      "Defaulting to user installation because normal site-packages is not writeable\n",
      "Requirement already satisfied: matplotlib in /usr/lib/python3/dist-packages (3.5.1)\n",
      "Defaulting to user installation because normal site-packages is not writeable\n",
      "Requirement already satisfied: librosa in /home/mikea/.local/lib/python3.10/site-packages (0.10.2.post1)\n",
      "Requirement already satisfied: pooch>=1.1 in /home/mikea/.local/lib/python3.10/site-packages (from librosa) (1.8.2)\n",
      "Requirement already satisfied: audioread>=2.1.9 in /home/mikea/.local/lib/python3.10/site-packages (from librosa) (3.0.1)\n",
      "Requirement already satisfied: joblib>=0.14 in /home/mikea/.local/lib/python3.10/site-packages (from librosa) (1.4.2)\n",
      "Requirement already satisfied: scipy>=1.2.0 in /home/mikea/.local/lib/python3.10/site-packages (from librosa) (1.14.0)\n",
      "Requirement already satisfied: decorator>=4.3.0 in /usr/lib/python3/dist-packages (from librosa) (4.4.2)\n",
      "Requirement already satisfied: lazy-loader>=0.1 in /home/mikea/.local/lib/python3.10/site-packages (from librosa) (0.4)\n",
      "Requirement already satisfied: scikit-learn>=0.20.0 in /home/mikea/.local/lib/python3.10/site-packages (from librosa) (1.5.1)\n",
      "Requirement already satisfied: numba>=0.51.0 in /home/mikea/.local/lib/python3.10/site-packages (from librosa) (0.60.0)\n",
      "Requirement already satisfied: soundfile>=0.12.1 in /home/mikea/.local/lib/python3.10/site-packages (from librosa) (0.12.1)\n",
      "Requirement already satisfied: typing-extensions>=4.1.1 in /home/mikea/.local/lib/python3.10/site-packages (from librosa) (4.12.2)\n",
      "Requirement already satisfied: msgpack>=1.0 in /home/mikea/.local/lib/python3.10/site-packages (from librosa) (1.0.8)\n",
      "Requirement already satisfied: soxr>=0.3.2 in /home/mikea/.local/lib/python3.10/site-packages (from librosa) (0.4.0)\n",
      "Requirement already satisfied: numpy!=1.22.0,!=1.22.1,!=1.22.2,>=1.20.3 in /home/mikea/.local/lib/python3.10/site-packages (from librosa) (2.0.1)\n",
      "Requirement already satisfied: packaging in /usr/lib/python3/dist-packages (from lazy-loader>=0.1->librosa) (21.3)\n",
      "Requirement already satisfied: llvmlite<0.44,>=0.43.0dev0 in /home/mikea/.local/lib/python3.10/site-packages (from numba>=0.51.0->librosa) (0.43.0)\n",
      "Requirement already satisfied: requests>=2.19.0 in /home/mikea/.local/lib/python3.10/site-packages (from pooch>=1.1->librosa) (2.32.3)\n",
      "Requirement already satisfied: platformdirs>=2.5.0 in /home/mikea/.local/lib/python3.10/site-packages (from pooch>=1.1->librosa) (4.2.2)\n",
      "Requirement already satisfied: threadpoolctl>=3.1.0 in /home/mikea/.local/lib/python3.10/site-packages (from scikit-learn>=0.20.0->librosa) (3.5.0)\n",
      "Requirement already satisfied: cffi>=1.0 in /home/mikea/.local/lib/python3.10/site-packages (from soundfile>=0.12.1->librosa) (1.17.0)\n",
      "Requirement already satisfied: pycparser in /home/mikea/.local/lib/python3.10/site-packages (from cffi>=1.0->soundfile>=0.12.1->librosa) (2.22)\n",
      "Requirement already satisfied: certifi>=2017.4.17 in /home/mikea/.local/lib/python3.10/site-packages (from requests>=2.19.0->pooch>=1.1->librosa) (2024.7.4)\n",
      "Requirement already satisfied: idna<4,>=2.5 in /home/mikea/.local/lib/python3.10/site-packages (from requests>=2.19.0->pooch>=1.1->librosa) (3.7)\n",
      "Requirement already satisfied: charset-normalizer<4,>=2 in /home/mikea/.local/lib/python3.10/site-packages (from requests>=2.19.0->pooch>=1.1->librosa) (3.3.2)\n",
      "Requirement already satisfied: urllib3<3,>=1.21.1 in /home/mikea/.local/lib/python3.10/site-packages (from requests>=2.19.0->pooch>=1.1->librosa) (2.2.2)\n"
     ]
    }
   ],
   "source": [
    "! pip install demucs torchaudio\n",
    "! pip install numpy\n",
    "! pip install matplotlib\n",
    "! pip install librosa"
   ]
  }
 ],
 "metadata": {
  "kernelspec": {
   "display_name": "Python 3",
   "language": "python",
   "name": "python3"
  },
  "language_info": {
   "codemirror_mode": {
    "name": "ipython",
    "version": 3
   },
   "file_extension": ".py",
   "mimetype": "text/x-python",
   "name": "python",
   "nbconvert_exporter": "python",
   "pygments_lexer": "ipython3",
   "version": "3.10.12"
  }
 },
 "nbformat": 4,
 "nbformat_minor": 2
}
